{
 "cells": [
  {
   "cell_type": "code",
   "execution_count": 48,
   "id": "76d51bdf",
   "metadata": {},
   "outputs": [],
   "source": [
    "import os\n",
    "import requests\n",
    "from collections import OrderedDict"
   ]
  },
  {
   "cell_type": "code",
   "execution_count": 14,
   "id": "9e361ea1",
   "metadata": {},
   "outputs": [],
   "source": [
    "YOUR_API_KEY = '1234'\n",
    "data_file_path = r\"C:\\Users\\blumb\\main\\Jupyter\\APIs\\data\\dests.txt\""
   ]
  },
  {
   "cell_type": "code",
   "execution_count": 16,
   "id": "6ab210c5",
   "metadata": {},
   "outputs": [],
   "source": [
    "with open(data_file_path) as file:\n",
    "    destinations = file.read().splitlines()\n"
   ]
  },
  {
   "cell_type": "code",
   "execution_count": 17,
   "id": "c5d55e54",
   "metadata": {},
   "outputs": [
    {
     "name": "stdout",
     "output_type": "stream",
     "text": [
      "['Istanbul', 'Amsterdam', 'Valletta', 'Basel', 'Doha']\n"
     ]
    }
   ],
   "source": [
    "print(destinations)"
   ]
  },
  {
   "cell_type": "code",
   "execution_count": 18,
   "id": "083000a6",
   "metadata": {},
   "outputs": [
    {
     "name": "stdout",
     "output_type": "stream",
     "text": [
      "Istanbul|Amsterdam|Valletta|Basel|Doha\n"
     ]
    }
   ],
   "source": [
    "#txt \n",
    "destinationsStr = \"|\".join(destinations)\n",
    "print(destinationsStr)"
   ]
  },
  {
   "cell_type": "code",
   "execution_count": 19,
   "id": "aa4bce2c",
   "metadata": {},
   "outputs": [],
   "source": [
    "origin = \"Jerusalem\""
   ]
  },
  {
   "cell_type": "code",
   "execution_count": 20,
   "id": "db182d53",
   "metadata": {},
   "outputs": [],
   "source": [
    "url = f\"https://maps.googleapis.com/maps/api/distancematrix/json?origins={origin}&destinations={destinationsStr}&key={YOUR_API_KEY}\"\n",
    "payload={}\n",
    "headers = {}\n",
    "response = requests.request(\"GET\", url, headers=headers, data=payload)\n",
    "distanceMatrixjsonResponse = response.json()"
   ]
  },
  {
   "cell_type": "code",
   "execution_count": 21,
   "id": "7f79b2fd",
   "metadata": {},
   "outputs": [],
   "source": [
    "url = f\"https://maps.googleapis.com/maps/api/geocode/json?address={destinationsStr}&key={YOUR_API_KEY}\"\n",
    "payload={}\n",
    "headers = {}\n",
    "response = requests.request(\"GET\", url, headers=headers, data=payload)\n",
    "geocodejsonResponse = response.json()"
   ]
  },
  {
   "cell_type": "code",
   "execution_count": 22,
   "id": "c75e7e41",
   "metadata": {},
   "outputs": [
    {
     "name": "stdout",
     "output_type": "stream",
     "text": [
      "{'results': [{'address_components': [{'long_name': 'Amsterdam', 'short_name': 'Amsterdam', 'types': ['locality', 'political']}, {'long_name': 'Government of Amsterdam', 'short_name': 'Government of Amsterdam', 'types': ['administrative_area_level_2', 'political']}, {'long_name': 'North Holland', 'short_name': 'NH', 'types': ['administrative_area_level_1', 'political']}, {'long_name': 'Netherlands', 'short_name': 'NL', 'types': ['country', 'political']}], 'formatted_address': 'Amsterdam, Netherlands', 'geometry': {'bounds': {'northeast': {'lat': 52.4311573, 'lng': 5.0791619}, 'southwest': {'lat': 52.278174, 'lng': 4.7287589}}, 'location': {'lat': 52.3675734, 'lng': 4.9041389}, 'location_type': 'APPROXIMATE', 'viewport': {'northeast': {'lat': 52.4311573, 'lng': 5.0791619}, 'southwest': {'lat': 52.278174, 'lng': 4.7287589}}}, 'partial_match': True, 'place_id': 'ChIJVXealLU_xkcRja_At0z9AGY', 'types': ['locality', 'political']}, {'address_components': [{'long_name': 'İstanbul', 'short_name': 'İstanbul', 'types': ['locality', 'political']}, {'long_name': 'İstanbul', 'short_name': 'İstanbul', 'types': ['administrative_area_level_1', 'political']}, {'long_name': 'Turkey', 'short_name': 'TR', 'types': ['country', 'political']}], 'formatted_address': 'İstanbul, Turkey', 'geometry': {'bounds': {'northeast': {'lat': 41.199239, 'lng': 29.4288049}, 'southwest': {'lat': 40.811404, 'lng': 28.595554}}, 'location': {'lat': 41.0082376, 'lng': 28.9783589}, 'location_type': 'APPROXIMATE', 'viewport': {'northeast': {'lat': 41.199239, 'lng': 29.4288049}, 'southwest': {'lat': 40.811404, 'lng': 28.595554}}}, 'partial_match': True, 'place_id': 'ChIJawhoAASnyhQR0LABvJj-zOE', 'types': ['locality', 'political']}, {'address_components': [{'long_name': 'Doha', 'short_name': 'Doha', 'types': ['locality', 'political']}, {'long_name': 'Doha', 'short_name': 'Doha', 'types': ['administrative_area_level_1', 'political']}, {'long_name': 'Qatar', 'short_name': 'QA', 'types': ['country', 'political']}], 'formatted_address': 'Doha, Qatar', 'geometry': {'bounds': {'northeast': {'lat': 25.4125783, 'lng': 51.6281212}, 'southwest': {'lat': 25.1554399, 'lng': 51.3958721}}, 'location': {'lat': 25.2854473, 'lng': 51.53103979999999}, 'location_type': 'APPROXIMATE', 'viewport': {'northeast': {'lat': 25.4125783, 'lng': 51.6281212}, 'southwest': {'lat': 25.1554399, 'lng': 51.3958721}}}, 'partial_match': True, 'place_id': 'ChIJf-jc_zTFRT4RsdTPeJ8x2UQ', 'types': ['locality', 'political']}, {'address_components': [{'long_name': 'Valletta', 'short_name': 'Valletta', 'types': ['locality', 'political']}, {'long_name': 'Malta', 'short_name': 'MT', 'types': ['country', 'political']}], 'formatted_address': 'Valletta, Malta', 'geometry': {'bounds': {'northeast': {'lat': 35.9036629, 'lng': 14.5207773}, 'southwest': {'lat': 35.8932982, 'lng': 14.5055526}}, 'location': {'lat': 35.8989085, 'lng': 14.5145528}, 'location_type': 'APPROXIMATE', 'viewport': {'northeast': {'lat': 35.9036629, 'lng': 14.5207773}, 'southwest': {'lat': 35.8932982, 'lng': 14.5055526}}}, 'partial_match': True, 'place_id': 'ChIJxUeGHShFDhMRF8lC4o7TWnQ', 'types': ['locality', 'political']}, {'address_components': [{'long_name': 'Basel', 'short_name': 'Basel', 'types': ['locality', 'political']}, {'long_name': 'Basel-Stadt', 'short_name': 'Basel-Stadt', 'types': ['administrative_area_level_2', 'political']}, {'long_name': 'Basel City', 'short_name': 'BS', 'types': ['administrative_area_level_1', 'political']}, {'long_name': 'Switzerland', 'short_name': 'CH', 'types': ['country', 'political']}], 'formatted_address': 'Basel, Switzerland', 'geometry': {'bounds': {'northeast': {'lat': 47.5898833, 'lng': 7.634099999999999}, 'southwest': {'lat': 47.51931, 'lng': 7.554819900000001}}, 'location': {'lat': 47.5595986, 'lng': 7.5885761}, 'location_type': 'APPROXIMATE', 'viewport': {'northeast': {'lat': 47.5898833, 'lng': 7.634099999999999}, 'southwest': {'lat': 47.51931, 'lng': 7.554819900000001}}}, 'partial_match': True, 'place_id': 'ChIJTzBpJ8dJkEcRkIpt83DrHDY', 'types': ['locality', 'political']}], 'status': 'OK'}\n"
     ]
    }
   ],
   "source": [
    "print(geocodejsonResponse)"
   ]
  },
  {
   "cell_type": "code",
   "execution_count": 23,
   "id": "dad5c238",
   "metadata": {},
   "outputs": [],
   "source": [
    "geocodeResults = {}\n",
    "for address_components_index, address_components in enumerate(geocodejsonResponse['results']):\n",
    "    geocodeResults[destinations[address_components_index]] = {'lat': address_components['geometry']['location']['lat'],\n",
    "                                                              'lng': address_components['geometry']['location']['lng']}"
   ]
  },
  {
   "cell_type": "code",
   "execution_count": 26,
   "id": "9e528746",
   "metadata": {},
   "outputs": [
    {
     "name": "stdout",
     "output_type": "stream",
     "text": [
      "{'Istanbul': {'lat': 52.3675734, 'lng': 4.9041389}, 'Amsterdam': {'lat': 41.0082376, 'lng': 28.9783589}, 'Valletta': {'lat': 25.2854473, 'lng': 51.53103979999999}, 'Basel': {'lat': 35.8989085, 'lng': 14.5145528}, 'Doha': {'lat': 47.5595986, 'lng': 7.5885761}}\n"
     ]
    }
   ],
   "source": [
    "print(repr(geocodeResults))"
   ]
  },
  {
   "cell_type": "code",
   "execution_count": 28,
   "id": "315849cc",
   "metadata": {},
   "outputs": [],
   "source": [
    "resultsList = distanceMatrixjsonResponse[\"rows\"][0]['elements']"
   ]
  },
  {
   "cell_type": "code",
   "execution_count": 41,
   "id": "a22baf3a",
   "metadata": {},
   "outputs": [],
   "source": [
    "resultsDictionary = {}\n",
    "for row_index, row in enumerate(resultsList):\n",
    "    resultsDictionary[destinations[row_index]] = (row['distance']['value'],\n",
    "                                                  row['duration']['value']/60/60,\n",
    "                                                  row['duration']['value']/60,\n",
    "                                                  geocodeResults[destinations[row_index]]['lng'],\n",
    "                                                  geocodeResults[destinations[row_index]]['lat'])"
   ]
  },
  {
   "cell_type": "code",
   "execution_count": 42,
   "id": "d8f057e4",
   "metadata": {},
   "outputs": [
    {
     "name": "stdout",
     "output_type": "stream",
     "text": [
      "{'Istanbul': (1808887, 20.64361111111111, 1238.6166666666666, 4.9041389, 52.3675734), 'Amsterdam': (4527771, 47.48166666666667, 2848.9, 28.9783589, 41.0082376), 'Valletta': (3782994, 50.489444444444445, 3029.366666666667, 51.53103979999999, 25.2854473), 'Basel': (4091368, 43.64805555555555, 2618.883333333333, 14.5145528, 35.8989085), 'Doha': (2104502, 21.973055555555558, 1318.3833333333334, 7.5885761, 47.5595986)}\n"
     ]
    }
   ],
   "source": [
    "print(repr(resultsDictionary))"
   ]
  },
  {
   "cell_type": "code",
   "execution_count": 43,
   "id": "02f91f5f",
   "metadata": {},
   "outputs": [
    {
     "name": "stdout",
     "output_type": "stream",
     "text": [
      "Destination: Istanbul\n",
      "\tDistance from Jerusalem[KM]: 1808887\n",
      "\tArrival duration from Jerusalem[Hrs]: 20.64361111111111\n",
      "\tArrival duration from Jerusalem[Minutes]: 1238.6166666666666\n",
      "\tLongitude: 4.9041389\n",
      "\tLatitude: 52.3675734\n",
      "Destination: Amsterdam\n",
      "\tDistance from Jerusalem[KM]: 4527771\n",
      "\tArrival duration from Jerusalem[Hrs]: 47.48166666666667\n",
      "\tArrival duration from Jerusalem[Minutes]: 2848.9\n",
      "\tLongitude: 28.9783589\n",
      "\tLatitude: 41.0082376\n",
      "Destination: Valletta\n",
      "\tDistance from Jerusalem[KM]: 3782994\n",
      "\tArrival duration from Jerusalem[Hrs]: 50.489444444444445\n",
      "\tArrival duration from Jerusalem[Minutes]: 3029.366666666667\n",
      "\tLongitude: 51.53103979999999\n",
      "\tLatitude: 25.2854473\n",
      "Destination: Basel\n",
      "\tDistance from Jerusalem[KM]: 4091368\n",
      "\tArrival duration from Jerusalem[Hrs]: 43.64805555555555\n",
      "\tArrival duration from Jerusalem[Minutes]: 2618.883333333333\n",
      "\tLongitude: 14.5145528\n",
      "\tLatitude: 35.8989085\n",
      "Destination: Doha\n",
      "\tDistance from Jerusalem[KM]: 2104502\n",
      "\tArrival duration from Jerusalem[Hrs]: 21.973055555555558\n",
      "\tArrival duration from Jerusalem[Minutes]: 1318.3833333333334\n",
      "\tLongitude: 7.5885761\n",
      "\tLatitude: 47.5595986\n"
     ]
    }
   ],
   "source": [
    "for row_index, row in enumerate(resultsList):\n",
    "    print(f\"Destination: {destinations[row_index]}\")\n",
    "    print(f\"\\tDistance from Jerusalem[KM]: {row['distance']['value']}\")\n",
    "    print(f\"\\tArrival duration from Jerusalem[Hrs]: {row['duration']['value']/60/60}\")\n",
    "    print(f\"\\tArrival duration from Jerusalem[Minutes]: {row['duration']['value']/60}\")\n",
    "    print(f\"\\tLongitude: {geocodeResults[destinations[row_index]]['lng']}\")\n",
    "    print(f\"\\tLatitude: {geocodeResults[destinations[row_index]]['lat']}\")"
   ]
  },
  {
   "cell_type": "code",
   "execution_count": 70,
   "id": "6552ae38",
   "metadata": {},
   "outputs": [],
   "source": [
    "def find_three_furthest(resultsList):\n",
    "    \"\"\"Arguments:\n",
    "       resultsList:  The destination dictionary\n",
    "       \n",
    "       Retruns:\n",
    "           Three furthest destinations from Jerusalem.\"\"\"\n",
    "    distance_dict = {}\n",
    "    for row_index, row in enumerate(resultsList):\n",
    "        distance_dict[destinations[row_index]] = (row['distance']['value'])\n",
    "    #print(repr(distance_dict))\n",
    "    sorted_distance_dict = sorted(distance_dict, key=lambda i: int(distance_dict[i]), reverse=True)\n",
    "    print(repr(sorted_distance_dict))\n",
    "    return sorted_distance_dict"
   ]
  },
  {
   "cell_type": "code",
   "execution_count": 71,
   "id": "48cd52d7",
   "metadata": {},
   "outputs": [
    {
     "name": "stdout",
     "output_type": "stream",
     "text": [
      "['Amsterdam', 'Basel', 'Valletta', 'Doha', 'Istanbul']\n"
     ]
    }
   ],
   "source": [
    "furthest_destination = find_three_furthest(resultsList)"
   ]
  },
  {
   "cell_type": "code",
   "execution_count": 76,
   "id": "b8664bc4",
   "metadata": {},
   "outputs": [],
   "source": [
    "three_furthest_destination = furthest_destination[0:3]"
   ]
  },
  {
   "cell_type": "code",
   "execution_count": 77,
   "id": "743980ce",
   "metadata": {},
   "outputs": [
    {
     "name": "stdout",
     "output_type": "stream",
     "text": [
      "['Amsterdam', 'Basel', 'Valletta']\n"
     ]
    }
   ],
   "source": [
    "print(three_furthest_destination)"
   ]
  },
  {
   "cell_type": "code",
   "execution_count": null,
   "id": "edd3dbb2",
   "metadata": {},
   "outputs": [],
   "source": []
  }
 ],
 "metadata": {
  "kernelspec": {
   "display_name": "Python 3 (ipykernel)",
   "language": "python",
   "name": "python3"
  },
  "language_info": {
   "codemirror_mode": {
    "name": "ipython",
    "version": 3
   },
   "file_extension": ".py",
   "mimetype": "text/x-python",
   "name": "python",
   "nbconvert_exporter": "python",
   "pygments_lexer": "ipython3",
   "version": "3.9.7"
  }
 },
 "nbformat": 4,
 "nbformat_minor": 5
}
